{
 "cells": [
  {
   "cell_type": "markdown",
   "id": "916fad3c",
   "metadata": {},
   "source": [
    "# Answer 1"
   ]
  },
  {
   "cell_type": "code",
   "execution_count": 1,
   "id": "ffa0f1af",
   "metadata": {},
   "outputs": [],
   "source": [
    "def factorial(number):\n",
    "    if number < 2:\n",
    "        return 1\n",
    "    else:\n",
    "        return number * factorial(number-1)"
   ]
  },
  {
   "cell_type": "code",
   "execution_count": 2,
   "id": "d76cc06d",
   "metadata": {},
   "outputs": [
    {
     "data": {
      "text/plain": [
       "120"
      ]
     },
     "execution_count": 2,
     "metadata": {},
     "output_type": "execute_result"
    }
   ],
   "source": [
    "factorial(5)"
   ]
  },
  {
   "cell_type": "code",
   "execution_count": 3,
   "id": "113a5964",
   "metadata": {},
   "outputs": [],
   "source": [
    "def ncr(n, r):\n",
    "    return factorial(n)/(factorial(r)*factorial(n-r))"
   ]
  },
  {
   "cell_type": "code",
   "execution_count": 4,
   "id": "55c05a05",
   "metadata": {},
   "outputs": [],
   "source": [
    "def power(n, r):\n",
    "    if r==0:\n",
    "        return 1\n",
    "    else:\n",
    "        return (n*power(n, r-1))"
   ]
  },
  {
   "cell_type": "code",
   "execution_count": 5,
   "id": "7b013776",
   "metadata": {},
   "outputs": [
    {
     "data": {
      "text/plain": [
       "81"
      ]
     },
     "execution_count": 5,
     "metadata": {},
     "output_type": "execute_result"
    }
   ],
   "source": [
    "power(3,4)"
   ]
  },
  {
   "cell_type": "code",
   "execution_count": 6,
   "id": "70687d28",
   "metadata": {},
   "outputs": [
    {
     "data": {
      "text/plain": [
       "0.9375"
      ]
     },
     "execution_count": 6,
     "metadata": {},
     "output_type": "execute_result"
    }
   ],
   "source": [
    "#Assuming probability of A winning is a mutually exclusive event\n",
    "frames = 9\n",
    "#A winning first game\n",
    "first_game = 0.55 \n",
    "# Since we assumed it as a mutually exclusive event probability of winning and losing will be 0.5\n",
    "four_frames = power(0.5, 4)\n",
    "four_win_one_lose = ncr(5, 4)*power(0.5, 4)*0.5\n",
    "four_win_two_lose = ncr(6, 4)*power(0.5, 4)*power(0.5, 2)\n",
    "four_win_three_lose = ncr(7, 4)*power(0.5, 4)*power(0.5, 3)\n",
    "four_win_four_lose = ncr(8, 4)*power(0.5, 4)*power(0.5, 4)\n",
    "four_win =  four_win_one_lose + four_win_two_lose + four_win_three_lose + four_win_four_lose\n",
    "four_win\n"
   ]
  },
  {
   "cell_type": "markdown",
   "id": "9cc2ece5",
   "metadata": {},
   "source": [
    "#### A) Probability of A winning game "
   ]
  },
  {
   "cell_type": "code",
   "execution_count": 7,
   "id": "8227a084",
   "metadata": {},
   "outputs": [
    {
     "data": {
      "text/plain": [
       "0.515625"
      ]
     },
     "execution_count": 7,
     "metadata": {},
     "output_type": "execute_result"
    }
   ],
   "source": [
    "first_game*four_win"
   ]
  },
  {
   "cell_type": "markdown",
   "id": "4cb63960",
   "metadata": {},
   "source": [
    "#### B) Probability for there to be at least 8 frames played"
   ]
  },
  {
   "cell_type": "code",
   "execution_count": 8,
   "id": "2be69a21",
   "metadata": {},
   "outputs": [
    {
     "data": {
      "text/plain": [
       "0.546875"
      ]
     },
     "execution_count": 8,
     "metadata": {},
     "output_type": "execute_result"
    }
   ],
   "source": [
    "A_win = first_game * (four_win_three_lose + four_win_four_lose)\n",
    "B_win = (1 - first_game) * (four_win_three_lose + four_win_four_lose)\n",
    "A_win + B_win"
   ]
  },
  {
   "cell_type": "markdown",
   "id": "41ade9e1",
   "metadata": {},
   "source": [
    "#### C)  An appropriate level of odds (in decimal format) to offer for Player B to win the match."
   ]
  },
  {
   "cell_type": "code",
   "execution_count": 9,
   "id": "072fc34a",
   "metadata": {},
   "outputs": [
    {
     "data": {
      "text/plain": [
       "0.484375"
      ]
     },
     "execution_count": 9,
     "metadata": {},
     "output_type": "execute_result"
    }
   ],
   "source": [
    "1 - (first_game*four_win)"
   ]
  },
  {
   "cell_type": "markdown",
   "id": "5404b56c",
   "metadata": {},
   "source": [
    "# Answer 2"
   ]
  },
  {
   "cell_type": "code",
   "execution_count": 10,
   "id": "0f4f466c",
   "metadata": {},
   "outputs": [],
   "source": [
    "from scipy import stats"
   ]
  },
  {
   "cell_type": "code",
   "execution_count": 11,
   "id": "00cd7264",
   "metadata": {},
   "outputs": [],
   "source": [
    "# Declaring X as a Poisson variable\n",
    "X = stats.poisson(1.5)"
   ]
  },
  {
   "cell_type": "markdown",
   "id": "3e7f905c",
   "metadata": {},
   "source": [
    "#### A) Probability of team A win the match"
   ]
  },
  {
   "cell_type": "code",
   "execution_count": 12,
   "id": "2dd9a120",
   "metadata": {},
   "outputs": [
    {
     "data": {
      "text/plain": [
       "0.12551071508349182"
      ]
     },
     "execution_count": 12,
     "metadata": {},
     "output_type": "execute_result"
    }
   ],
   "source": [
    "X.pmf(3)"
   ]
  },
  {
   "cell_type": "markdown",
   "id": "17b52e6e",
   "metadata": {},
   "source": [
    "#### B) Estimation of the probability for there to be at least 2.5 goals in a match"
   ]
  },
  {
   "cell_type": "code",
   "execution_count": 13,
   "id": "02b1ae9d",
   "metadata": {},
   "outputs": [
    {
     "data": {
      "text/plain": [
       "0.16049352955455265"
      ]
     },
     "execution_count": 13,
     "metadata": {},
     "output_type": "execute_result"
    }
   ],
   "source": [
    "mean = (1.5 + 1.25)/2\n",
    "X_2 = stats.poisson(mean)\n",
    "1-(X_2.cdf(2.5))"
   ]
  },
  {
   "cell_type": "markdown",
   "id": "82c64769",
   "metadata": {},
   "source": [
    "#### c) An appropriate level of odds (in decimal format) to offer for the match to be drawn"
   ]
  },
  {
   "cell_type": "code",
   "execution_count": 14,
   "id": "1d386ff0",
   "metadata": {},
   "outputs": [
    {
     "data": {
      "text/plain": [
       "0.33898372342662825"
      ]
     },
     "execution_count": 14,
     "metadata": {},
     "output_type": "execute_result"
    }
   ],
   "source": [
    "sk = stats.skellam.pmf(0.0, 1.5, 1.25)\n",
    "sk/(1 - sk)"
   ]
  },
  {
   "cell_type": "markdown",
   "id": "5b281fbc",
   "metadata": {},
   "source": [
    "# Answer 3"
   ]
  },
  {
   "cell_type": "markdown",
   "id": "96ff0e20",
   "metadata": {},
   "source": [
    "#### In a tennis match, the probability of Player A winning a given point on serve in the first game of the match is 0.52. Find the probability that Player B wins the first game, given player A is serving"
   ]
  },
  {
   "cell_type": "code",
   "execution_count": 15,
   "id": "c5c3d581",
   "metadata": {},
   "outputs": [
    {
     "data": {
      "text/plain": [
       "0.48"
      ]
     },
     "execution_count": 15,
     "metadata": {},
     "output_type": "execute_result"
    }
   ],
   "source": [
    "1 - 0.52"
   ]
  },
  {
   "cell_type": "markdown",
   "id": "79eef495",
   "metadata": {},
   "source": [
    "# Answer 4"
   ]
  },
  {
   "cell_type": "markdown",
   "id": "6adb2c79",
   "metadata": {},
   "source": [
    "#### In a five horse race, the following table sets out the decimal odds for each horse to win the race. What should the price be for an exact 1-2-3 finish based on Horse A winning, Horse B coming 2nd and Horse C coming 3rd?"
   ]
  },
  {
   "cell_type": "code",
   "execution_count": 16,
   "id": "ba734d1d",
   "metadata": {},
   "outputs": [
    {
     "data": {
      "text/plain": [
       "128.1"
      ]
     },
     "execution_count": 16,
     "metadata": {},
     "output_type": "execute_result"
    }
   ],
   "source": [
    "# price for 1-2-3 finish for £10 \n",
    "10*(3.03+6.66+3.12)"
   ]
  },
  {
   "cell_type": "code",
   "execution_count": null,
   "id": "9068b287",
   "metadata": {},
   "outputs": [],
   "source": []
  }
 ],
 "metadata": {
  "kernelspec": {
   "display_name": "Python 3 (ipykernel)",
   "language": "python",
   "name": "python3"
  },
  "language_info": {
   "codemirror_mode": {
    "name": "ipython",
    "version": 3
   },
   "file_extension": ".py",
   "mimetype": "text/x-python",
   "name": "python",
   "nbconvert_exporter": "python",
   "pygments_lexer": "ipython3",
   "version": "3.8.8"
  }
 },
 "nbformat": 4,
 "nbformat_minor": 5
}
